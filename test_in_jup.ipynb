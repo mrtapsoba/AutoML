{
 "cells": [
  {
   "cell_type": "markdown",
   "metadata": {},
   "source": [
    "### test"
   ]
  },
  {
   "cell_type": "code",
   "execution_count": 3,
   "metadata": {},
   "outputs": [],
   "source": [
    "from sklearn.decomposition import PCA\n",
    "\n",
    "def reduce_data_pca(df, n_components=2):\n",
    "    \"\"\"\n",
    "    Réduit les dimensions d'un jeu de données en utilisant l'analyse en composantes principales (PCA).\n",
    "    \n",
    "    Args:\n",
    "        df (DataFrame): Le DataFrame contenant les données.\n",
    "        n_components (int, optional): Le nombre de composantes principales à conserver.\n",
    "            Par défaut, 2.\n",
    "    \n",
    "    Returns:\n",
    "        DataFrame: Le DataFrame avec les dimensions réduites.\n",
    "    \"\"\"\n",
    "    pca = PCA(n_components=n_components)\n",
    "    reduced_data = pca.fit_transform(df)\n",
    "    column_names = [f\"PC{i+1}\" for i in range(n_components)]\n",
    "    return pd.DataFrame(data=reduced_data, columns=column_names)\n"
   ]
  },
  {
   "cell_type": "code",
   "execution_count": 4,
   "metadata": {},
   "outputs": [
    {
     "name": "stdout",
     "output_type": "stream",
     "text": [
      "   sepal length (cm)  sepal width (cm)  petal length (cm)  petal width (cm)\n",
      "0                5.1               3.5                1.4               0.2\n",
      "1                4.9               3.0                1.4               0.2\n",
      "2                4.7               3.2                1.3               0.2\n",
      "3                4.6               3.1                1.5               0.2\n",
      "4                5.0               3.6                1.4               0.2\n",
      "        PC1       PC2\n",
      "0 -2.684126  0.319397\n",
      "1 -2.714142 -0.177001\n",
      "2 -2.888991 -0.144949\n",
      "3 -2.745343 -0.318299\n",
      "4 -2.728717  0.326755\n"
     ]
    }
   ],
   "source": [
    "import pandas as pd\n",
    "from sklearn.datasets import load_iris\n",
    "\n",
    "# Chargement des données Iris\n",
    "iris = load_iris()\n",
    "df = pd.DataFrame(data=iris.data, columns=iris.feature_names)\n",
    "print(df.head())\n",
    "# Réduction de dimensions en utilisant PCA\n",
    "reduced_df = reduce_data_pca(df, n_components=2)\n",
    "print(reduced_df.head())\n"
   ]
  },
  {
   "cell_type": "code",
   "execution_count": null,
   "metadata": {},
   "outputs": [],
   "source": []
  }
 ],
 "metadata": {
  "kernelspec": {
   "display_name": "base",
   "language": "python",
   "name": "python3"
  },
  "language_info": {
   "codemirror_mode": {
    "name": "ipython",
    "version": 3
   },
   "file_extension": ".py",
   "mimetype": "text/x-python",
   "name": "python",
   "nbconvert_exporter": "python",
   "pygments_lexer": "ipython3",
   "version": "3.11.5"
  }
 },
 "nbformat": 4,
 "nbformat_minor": 2
}
